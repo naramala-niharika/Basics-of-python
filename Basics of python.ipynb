{
 "cells": [
  {
   "cell_type": "markdown",
   "id": "7304da76",
   "metadata": {},
   "source": [
    "## Exercise 1: Prime Numbers"
   ]
  },
  {
   "cell_type": "markdown",
   "id": "60a11bba",
   "metadata": {},
   "source": [
    "## Write a Python program that checks whether a given number is prime or not. A prime number is a natural number greater than 1 that has no positive divisors other than 1 and itself."
   ]
  },
  {
   "cell_type": "code",
   "execution_count": 1,
   "id": "9574f5a2",
   "metadata": {},
   "outputs": [
    {
     "name": "stdout",
     "output_type": "stream",
     "text": [
      "Enter a num: 5\n",
      "5 is a prime number\n"
     ]
    }
   ],
   "source": [
    "def is_prime(num):\n",
    "    if num <= 1:\n",
    "        return False\n",
    "    for i in range(2,int(num ** 0.5)+1):\n",
    "        if num % i == 0:\n",
    "            return False\n",
    "        else:\n",
    "            return True\n",
    "num=int(input(\"Enter a num: \"))\n",
    "if is_prime(num):\n",
    "    print(f\"{num} is a prime number\")\n",
    "else:\n",
    "    print(f\"{num} is not a prime number\")\n",
    "    "
   ]
  },
  {
   "cell_type": "markdown",
   "id": "93ff6b2e",
   "metadata": {},
   "source": [
    "## Exercise 2: Product of Random Numbers"
   ]
  },
  {
   "cell_type": "markdown",
   "id": "da9134fd",
   "metadata": {},
   "source": [
    "## Develop a Python program that generates two random numbers and asks the user to enter the product of these numbers. The program should then check if the user's answer is correct and display an appropriate message."
   ]
  },
  {
   "cell_type": "code",
   "execution_count": 9,
   "id": "9130eff5",
   "metadata": {},
   "outputs": [
    {
     "name": "stdout",
     "output_type": "stream",
     "text": [
      "what is 5 * 8? \n",
      "Your answer: 40\n",
      "Your answer is correct\n"
     ]
    }
   ],
   "source": [
    "import random\n",
    "num1 = random.randint(1,10)\n",
    "num2 = random.randint(1,10)\n",
    "print(f\"what is {num1} * {num2}? \")\n",
    "user_answer = int(input(\"Your answer: \"))\n",
    "correct_answer = num1 * num2\n",
    "if user_answer == correct_answer:\n",
    "    print(\"Your answer is correct\")\n",
    "else:\n",
    "    print(\"Your answer is incorrect\")"
   ]
  },
  {
   "cell_type": "markdown",
   "id": "f705b043",
   "metadata": {},
   "source": [
    "### Exercise 4: Word counter"
   ]
  },
  {
   "cell_type": "markdown",
   "id": "43ad4ef0",
   "metadata": {},
   "source": [
    "## write a program to count the number of words in a given text.\n"
   ]
  },
  {
   "cell_type": "code",
   "execution_count": 14,
   "id": "cbcf0741",
   "metadata": {},
   "outputs": [
    {
     "name": "stdout",
     "output_type": "stream",
     "text": [
      "'My': 1\n",
      "'name': 1\n",
      "'is': 1\n",
      "'Niharika': 1\n"
     ]
    }
   ],
   "source": [
    "def count_words(input_text):\n",
    "    words= input_text.split()\n",
    "    word_count={}\n",
    "    for word in words:\n",
    "        if word in word_count:\n",
    "            word_count[word] +=1\n",
    "        else:\n",
    "            word_count[word]=1\n",
    "    for word, count in word_count.items():\n",
    "        print(f\"'{word}': {count}\")\n",
    "input_text = \"My name is Niharika\"\n",
    "count_words(input_text)\n",
    "\n"
   ]
  },
  {
   "cell_type": "markdown",
   "id": "e897feaa",
   "metadata": {},
   "source": [
    "## Exercise 5: Check for Palindrome"
   ]
  },
  {
   "cell_type": "code",
   "execution_count": 22,
   "id": "bb7469c3",
   "metadata": {},
   "outputs": [
    {
     "name": "stdout",
     "output_type": "stream",
     "text": [
      "True\n",
      "False\n"
     ]
    }
   ],
   "source": [
    "import string\n",
    "def is_palindrome(text):\n",
    "    text = text.lower()\n",
    "    cleaned = ''.join(char for char in text if char.isalnum())\n",
    "    return cleaned == cleaned[::-1]\n",
    "print(is_palindrome(\"racecar\"))                \n",
    "print(is_palindrome(\"hello\")) \n"
   ]
  },
  {
   "cell_type": "code",
   "execution_count": null,
   "id": "43a876c3",
   "metadata": {},
   "outputs": [],
   "source": []
  }
 ],
 "metadata": {
  "kernelspec": {
   "display_name": "Python 3 (ipykernel)",
   "language": "python",
   "name": "python3"
  },
  "language_info": {
   "codemirror_mode": {
    "name": "ipython",
    "version": 3
   },
   "file_extension": ".py",
   "mimetype": "text/x-python",
   "name": "python",
   "nbconvert_exporter": "python",
   "pygments_lexer": "ipython3",
   "version": "3.9.16"
  }
 },
 "nbformat": 4,
 "nbformat_minor": 5
}
